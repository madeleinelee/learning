{
  "nbformat": 4,
  "nbformat_minor": 0,
  "metadata": {
    "colab": {
      "name": "Copy of ex01_lossFunc_Selection.ipynb",
      "version": "0.3.2",
      "provenance": [],
      "collapsed_sections": []
    },
    "kernelspec": {
      "name": "python3",
      "display_name": "Python 3"
    }
  },
  "cells": [
    {
      "cell_type": "markdown",
      "metadata": {
        "id": "view-in-github",
        "colab_type": "text"
      },
      "source": [
        "[View in Colaboratory](https://colab.research.google.com/github/madeleinelee/learning/blob/madeleinelee-patch-1/Copy_of_ex01_lossFunc_Selection.ipynb)"
      ]
    },
    {
      "metadata": {
        "id": "Qb1_TVN6I3Yg",
        "colab_type": "text"
      },
      "cell_type": "markdown",
      "source": [
        "## 確認套件已經安裝 & Get data"
      ]
    },
    {
      "metadata": {
        "id": "HV7YO8qHIa7v",
        "colab_type": "code",
        "colab": {}
      },
      "cell_type": "code",
      "source": [
        "from __future__ import print_function\n",
        "!pip install -q keras\n",
        "import keras\n",
        "from google.colab import files\n",
        "import numpy as np\n",
        "from past.builtins import execfile\n",
        "import numpy as np\n",
        "import os\n",
        "\n",
        "from keras.utils import np_utils\n",
        "from sklearn.utils import shuffle\n",
        "import matplotlib.pyplot as plt"
      ],
      "execution_count": 0,
      "outputs": []
    },
    {
      "metadata": {
        "id": "DMi0n2udP2nZ",
        "colab_type": "text"
      },
      "cell_type": "markdown",
      "source": [
        "## 請將本機端的資料 \"pkgo_city66_cass5_v1.csv\" 上傳到 colab 環境"
      ]
    },
    {
      "metadata": {
        "id": "dZlRI9TZNAYy",
        "colab_type": "code",
        "colab": {}
      },
      "cell_type": "code",
      "source": [
        "if not os.path.exists(\"pkgo_city66_class5_v1.csv\"):\n",
        "  uploaded = files.upload()\n",
        "\n",
        "def readInput(file):\n",
        "  ''' Read input files '''\n",
        "  my_data = np.genfromtxt(file, delimiter=',',skip_header=1)\n",
        "\n",
        "  ''' The first column to the 199th column is used as input features '''\n",
        "  X_train = my_data[:,0:200]\n",
        "  X_train = X_train.astype('float32')\n",
        "\n",
        "  ''' The 200-th column is the answer '''\n",
        "  y_train = my_data[:,200]\n",
        "  y_train = y_train.astype('int')\n",
        "\n",
        "  ''' Convert to one-hot encoding '''\n",
        "  Y_train = np_utils.to_categorical(y_train,5)\n",
        "\n",
        "  ''' Shuffle training data '''\n",
        "  X_train,Y_train = shuffle(X_train,Y_train,random_state=100)\n",
        "  return X_train, Y_train\n",
        "\n",
        "X_train, Y_train = readInput(file=\"pkgo_city66_class5_v1.csv\")"
      ],
      "execution_count": 0,
      "outputs": []
    },
    {
      "metadata": {
        "id": "DhHHdgTrSH4S",
        "colab_type": "text"
      },
      "cell_type": "markdown",
      "source": [
        "## 開始建立第一個模型 \n",
        "### (資料已經先替各位做過簡單的預處理囉)"
      ]
    },
    {
      "metadata": {
        "id": "Abt7aR4lTSdr",
        "colab_type": "code",
        "colab": {}
      },
      "cell_type": "code",
      "source": [
        "''' Import keras to build a DL model '''\n",
        "from keras.models import Model\n",
        "from keras.layers import Dense, Activation, Input\n",
        "from keras.optimizers import SGD, Adam, RMSprop, Adagrad"
      ],
      "execution_count": 0,
      "outputs": []
    },
    {
      "metadata": {
        "id": "HPgkUo3VsQ4C",
        "colab_type": "code",
        "colab": {
          "base_uri": "https://localhost:8080/",
          "height": 1892
        },
        "outputId": "9675dc2e-7ed0-4b40-e139-1f397ab2deec"
      },
      "cell_type": "code",
      "source": [
        "#@title Loss Function selection { vertical-output: true, display-mode: \"both\" }\n",
        "loss_option = \"categorical_crossentropy\" #@param [\"mean_squared_error\", \"categorical_crossentropy\"]\n",
        "\n",
        "\n",
        "x_input = Input(shape = [X_train.shape[1]])\n",
        "\n",
        "x = Dense(128)(x_input)\n",
        "x = Activation('sigmoid')(x)\n",
        "\n",
        "x = Dense(256)(x)\n",
        "x = Activation('sigmoid')(x)\n",
        "\n",
        "x = Dense(5)(x)\n",
        "out = Activation('softmax')(x)\n",
        "\n",
        "sgd = SGD(lr=0.01,momentum=0.0,decay=0.0,nesterov=False)\n",
        "\n",
        "model = Model(inputs=[x_input], outputs=[out])\n",
        "\n",
        "model.compile(loss=loss_option,\n",
        "\t\t\t\toptimizer=sgd,\n",
        "\t\t\t\tmetrics=['accuracy'])\n",
        "model.summary()\n",
        "\n",
        "batch_size = 16\n",
        "epochs = 30\n",
        "\n",
        "history = model.fit(X_train, Y_train,\n",
        "\t\t\t\t\t\t\tbatch_size=batch_size,\n",
        "\t\t\t\t\t\t\tepochs=epochs,\n",
        "\t\t\t\t\t\t\tverbose=1,\n",
        "\t\t\t\t\t\t\tshuffle=True,\n",
        "              validation_split=0.1)\n",
        "\n",
        "loss\t= history.history.get('loss')\n",
        "acc \t= history.history.get('acc')\n",
        "\n",
        "''' Visualize the loss and accuracy of both models'''\n",
        "plt.figure(0)\n",
        "plt.subplot(121)\n",
        "plt.plot(range(len(loss)))\n",
        "plt.title('Loss')\n",
        "plt.legend(loc='upper right')\n",
        "plt.subplot(122)\n",
        "plt.plot(range(len(acc)), acc)\n",
        "plt.title('Accuracy')\n",
        "plt.show()"
      ],
      "execution_count": 0,
      "outputs": [
        {
          "output_type": "stream",
          "text": [
            "_________________________________________________________________\n",
            "Layer (type)                 Output Shape              Param #   \n",
            "=================================================================\n",
            "input_3 (InputLayer)         (None, 200)               0         \n",
            "_________________________________________________________________\n",
            "dense_7 (Dense)              (None, 128)               25728     \n",
            "_________________________________________________________________\n",
            "activation_7 (Activation)    (None, 128)               0         \n",
            "_________________________________________________________________\n",
            "dense_8 (Dense)              (None, 256)               33024     \n",
            "_________________________________________________________________\n",
            "activation_8 (Activation)    (None, 256)               0         \n",
            "_________________________________________________________________\n",
            "dense_9 (Dense)              (None, 5)                 1285      \n",
            "_________________________________________________________________\n",
            "activation_9 (Activation)    (None, 5)                 0         \n",
            "=================================================================\n",
            "Total params: 60,037\n",
            "Trainable params: 60,037\n",
            "Non-trainable params: 0\n",
            "_________________________________________________________________\n",
            "Train on 1652 samples, validate on 184 samples\n",
            "Epoch 1/30\n",
            "1652/1652 [==============================] - 0s 188us/step - loss: 1.3770 - acc: 0.5030 - val_loss: 1.3345 - val_acc: 0.5163\n",
            "Epoch 2/30\n",
            "1652/1652 [==============================] - 0s 126us/step - loss: 1.3539 - acc: 0.5163 - val_loss: 1.3705 - val_acc: 0.5163\n",
            "Epoch 3/30\n",
            "1652/1652 [==============================] - 0s 124us/step - loss: 1.3531 - acc: 0.5163 - val_loss: 1.3245 - val_acc: 0.5163\n",
            "Epoch 4/30\n",
            "1652/1652 [==============================] - 0s 122us/step - loss: 1.3464 - acc: 0.5163 - val_loss: 1.3201 - val_acc: 0.5163\n",
            "Epoch 5/30\n",
            "1652/1652 [==============================] - 0s 126us/step - loss: 1.3427 - acc: 0.5163 - val_loss: 1.3266 - val_acc: 0.5163\n",
            "Epoch 6/30\n",
            "1652/1652 [==============================] - 0s 121us/step - loss: 1.3401 - acc: 0.5163 - val_loss: 1.3406 - val_acc: 0.5163\n",
            "Epoch 7/30\n",
            "1652/1652 [==============================] - 0s 129us/step - loss: 1.3374 - acc: 0.5163 - val_loss: 1.3336 - val_acc: 0.5163\n",
            "Epoch 8/30\n",
            "1652/1652 [==============================] - 0s 128us/step - loss: 1.3312 - acc: 0.5163 - val_loss: 1.3014 - val_acc: 0.5163\n",
            "Epoch 9/30\n",
            "1652/1652 [==============================] - 0s 126us/step - loss: 1.3283 - acc: 0.5163 - val_loss: 1.3089 - val_acc: 0.5163\n",
            "Epoch 10/30\n",
            "1344/1652 [=======================>......] - ETA: 0s - loss: 1.3154 - acc: 0.5179"
          ],
          "name": "stdout"
        },
        {
          "output_type": "stream",
          "text": [
            "1652/1652 [==============================] - 0s 125us/step - loss: 1.3219 - acc: 0.5163 - val_loss: 1.3100 - val_acc: 0.5163\n",
            "Epoch 11/30\n",
            "1652/1652 [==============================] - 0s 125us/step - loss: 1.3175 - acc: 0.5163 - val_loss: 1.2872 - val_acc: 0.5163\n",
            "Epoch 12/30\n",
            "1652/1652 [==============================] - 0s 124us/step - loss: 1.3118 - acc: 0.5163 - val_loss: 1.2809 - val_acc: 0.5163\n",
            "Epoch 13/30\n",
            "1652/1652 [==============================] - 0s 122us/step - loss: 1.3057 - acc: 0.5163 - val_loss: 1.2797 - val_acc: 0.5163\n",
            "Epoch 14/30\n",
            "1652/1652 [==============================] - 0s 132us/step - loss: 1.3018 - acc: 0.5194 - val_loss: 1.2873 - val_acc: 0.5652\n",
            "Epoch 15/30\n",
            "1652/1652 [==============================] - 0s 124us/step - loss: 1.2919 - acc: 0.5188 - val_loss: 1.2608 - val_acc: 0.5707\n",
            "Epoch 16/30\n",
            "1652/1652 [==============================] - 0s 126us/step - loss: 1.2847 - acc: 0.5278 - val_loss: 1.2800 - val_acc: 0.5870\n",
            "Epoch 17/30\n",
            "1652/1652 [==============================] - 0s 122us/step - loss: 1.2780 - acc: 0.5297 - val_loss: 1.2483 - val_acc: 0.5163\n",
            "Epoch 18/30\n",
            "1652/1652 [==============================] - 0s 118us/step - loss: 1.2712 - acc: 0.5375 - val_loss: 1.2258 - val_acc: 0.5924\n",
            "Epoch 19/30\n",
            "1652/1652 [==============================] - 0s 129us/step - loss: 1.2642 - acc: 0.5472 - val_loss: 1.2571 - val_acc: 0.5163\n",
            "Epoch 20/30\n",
            "1652/1652 [==============================] - 0s 123us/step - loss: 1.2575 - acc: 0.5575 - val_loss: 1.2303 - val_acc: 0.5326\n",
            "Epoch 21/30\n",
            "1652/1652 [==============================] - 0s 124us/step - loss: 1.2509 - acc: 0.5611 - val_loss: 1.2495 - val_acc: 0.5163\n",
            "Epoch 22/30\n",
            "1652/1652 [==============================] - 0s 125us/step - loss: 1.2465 - acc: 0.5642 - val_loss: 1.1911 - val_acc: 0.5707\n",
            "Epoch 23/30\n",
            "1652/1652 [==============================] - 0s 130us/step - loss: 1.2405 - acc: 0.5702 - val_loss: 1.1952 - val_acc: 0.5761\n",
            "Epoch 24/30\n",
            "1652/1652 [==============================] - 0s 119us/step - loss: 1.2331 - acc: 0.5720 - val_loss: 1.2071 - val_acc: 0.5761\n",
            "Epoch 25/30\n",
            "1652/1652 [==============================] - 0s 119us/step - loss: 1.2286 - acc: 0.5757 - val_loss: 1.2146 - val_acc: 0.5870\n",
            "Epoch 26/30\n",
            " 448/1652 [=======>......................] - ETA: 0s - loss: 1.2860 - acc: 0.5446"
          ],
          "name": "stdout"
        },
        {
          "output_type": "stream",
          "text": [
            "1652/1652 [==============================] - 0s 121us/step - loss: 1.2274 - acc: 0.5745 - val_loss: 1.1816 - val_acc: 0.5924\n",
            "Epoch 27/30\n",
            "1652/1652 [==============================] - 0s 119us/step - loss: 1.2211 - acc: 0.5811 - val_loss: 1.2355 - val_acc: 0.5380\n",
            "Epoch 28/30\n",
            "1652/1652 [==============================] - 0s 127us/step - loss: 1.2196 - acc: 0.5769 - val_loss: 1.1870 - val_acc: 0.6141\n",
            "Epoch 29/30\n",
            "1652/1652 [==============================] - 0s 120us/step - loss: 1.2132 - acc: 0.5769 - val_loss: 1.2170 - val_acc: 0.6304\n",
            "Epoch 30/30\n",
            "1652/1652 [==============================] - 0s 121us/step - loss: 1.2110 - acc: 0.5805 - val_loss: 1.1917 - val_acc: 0.5652\n"
          ],
          "name": "stdout"
        },
        {
          "output_type": "stream",
          "text": [
            "No handles with labels found to put in legend.\n"
          ],
          "name": "stderr"
        },
        {
          "output_type": "display_data",
          "data": {
            "image/png": "[encoded data removed]",
            "text/plain": [
              "<matplotlib.figure.Figure at 0x7f54d1046dd8>"
            ]
          },
          "metadata": {
            "tags": []
          }
        }
      ]
    },
    {
      "metadata": {
        "id": "JvgDioGbxLsp",
        "colab_type": "text"
      },
      "cell_type": "markdown",
      "source": [
        "## 同時比較多種 loss 對訓練結果之差異"
      ]
    },
    {
      "metadata": {
        "id": "kolRji_EKFHQ",
        "colab_type": "code",
        "colab": {
          "base_uri": "https://localhost:8080/",
          "height": 432
        },
        "outputId": "da9fb489-b7a0-4aea-90d3-6a302cec0fb7"
      },
      "cell_type": "code",
      "source": [
        "#@title Losses Comparison { vertical-output: true, display-mode: \"both\" }\n",
        "losses = [\"mean_squared_error\", \"categorical_crossentropy\", \"mean_absolute_error\"] #@param {type:\"string\"}\n",
        "\n",
        "\n",
        "import keras.backend as K\n",
        "batch_size = 16\n",
        "epochs = 30\n",
        "all_loss, all_acc = [], []\n",
        "\n",
        "for loss_option in losses:\n",
        "  K.clear_session()\n",
        "  print(\"Running model, loss = %s\" % loss_option)\n",
        "  \n",
        "  x_input = Input(shape = [X_train.shape[1]])\n",
        "  x = Dense(128)(x_input)\n",
        "  x = Activation('sigmoid')(x)\n",
        "\n",
        "  x = Dense(256)(x)\n",
        "  x = Activation('sigmoid')(x)\n",
        "\n",
        "  x = Dense(5)(x)\n",
        "  out = Activation('softmax')(x)\n",
        "\n",
        "  sgd = SGD(lr=0.01,momentum=0.0,decay=0.0,nesterov=False)\n",
        "\n",
        "  model = Model(inputs=[x_input], outputs=[out])\n",
        "\n",
        "  model.compile(loss=loss_option,\n",
        "          optimizer=sgd,\n",
        "          metrics=['accuracy'])\n",
        "\n",
        "  history = model.fit(X_train, Y_train,\n",
        "                batch_size=batch_size,\n",
        "                epochs=epochs,\n",
        "                verbose=0,\n",
        "                shuffle=True,\n",
        "                validation_split=0.1)\n",
        "\n",
        "  loss\t= history.history.get('loss')\n",
        "  acc \t= history.history.get('acc')\n",
        "  \n",
        "  all_loss.append(loss)\n",
        "  all_acc.append(acc)\n",
        "\n",
        "''' Visualize the loss and accuracy of both models'''\n",
        "plt.figure(0)\n",
        "plt.subplot(121)\n",
        "for k in range(len(losses)):\n",
        "  plt.plot(range(len(all_loss[k])), all_loss[k],label=losses[k])\n",
        "plt.title('Loss')\n",
        "plt.subplot(122)\n",
        "for k in range(len(losses)):\n",
        "  plt.plot(range(len(all_acc[k])), all_acc[k],label=losses[k])\n",
        "plt.title('Accuracy')\n",
        "plt.legend(bbox_to_anchor=(1.05, 1), loc=2, borderaxespad=0.)\n",
        "plt.show()"
      ],
      "execution_count": 0,
      "outputs": [
        {
          "output_type": "stream",
          "text": [
            "Running model, loss = mean_squared_error\n",
            "Running model, loss = categorical_crossentropy\n",
            "Running model, loss = mean_absolute_error\n"
          ],
          "name": "stdout"
        },
        {
          "output_type": "display_data",
          "data": {
            "image/png": "[encoded data removed]",
            "text/plain": [
              "<matplotlib.figure.Figure at 0x7f3438c3a310>"
            ]
          },
          "metadata": {
            "tags": []
          }
        }
      ]
    }
  ]
}