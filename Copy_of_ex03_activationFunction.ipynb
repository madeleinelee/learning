{
  "nbformat": 4,
  "nbformat_minor": 0,
  "metadata": {
    "colab": {
      "name": "Copy of ex03_activationFunction.ipynb",
      "version": "0.3.2",
      "provenance": [],
      "collapsed_sections": []
    },
    "kernelspec": {
      "name": "python3",
      "display_name": "Python 3"
    },
    "accelerator": "GPU"
  },
  "cells": [
    {
      "cell_type": "markdown",
      "metadata": {
        "id": "view-in-github",
        "colab_type": "text"
      },
      "source": [
        "[View in Colaboratory](https://colab.research.google.com/github/madeleinelee/learning/blob/madeleinelee-patch-1/Copy_of_ex03_activationFunction.ipynb)"
      ]
    },
    {
      "metadata": {
        "id": "Qb1_TVN6I3Yg",
        "colab_type": "text"
      },
      "cell_type": "markdown",
      "source": [
        "## 確認套件已經安裝 & Get data"
      ]
    },
    {
      "metadata": {
        "id": "HV7YO8qHIa7v",
        "colab_type": "code",
        "colab": {
          "base_uri": "https://localhost:8080/",
          "height": 34
        },
        "outputId": "a5ac5efd-e85e-4540-d782-5e7634c2f50f"
      },
      "cell_type": "code",
      "source": [
        "from __future__ import print_function\n",
        "!pip install -q keras\n",
        "import keras\n",
        "from google.colab import files\n",
        "import numpy as np\n",
        "from past.builtins import execfile\n",
        "import numpy as np\n",
        "import os\n",
        "\n",
        "from keras.utils import np_utils\n",
        "from sklearn.utils import shuffle\n",
        "import matplotlib.pyplot as plt"
      ],
      "execution_count": 0,
      "outputs": [
        {
          "output_type": "stream",
          "text": [
            "Using TensorFlow backend.\n"
          ],
          "name": "stderr"
        }
      ]
    },
    {
      "metadata": {
        "id": "DMi0n2udP2nZ",
        "colab_type": "text"
      },
      "cell_type": "markdown",
      "source": [
        "## 請將本機端的資料 \"pkgo_city66_cass5_v1.csv\" 上傳到 colab 環境"
      ]
    },
    {
      "metadata": {
        "id": "dZlRI9TZNAYy",
        "colab_type": "code",
        "colab": {
          "resources": {
            "http://localhost:8080/nbextensions/google.colab/files.js": {
              "data": "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",
              "ok": true,
              "headers": [
                [
                  "content-type",
                  "application/javascript"
                ]
              ],
              "status": 200,
              "status_text": ""
            }
          },
          "base_uri": "https://localhost:8080/",
          "height": 72
        },
        "outputId": "d78d8e6d-1371-4ec5-8919-1c96b87adb4a"
      },
      "cell_type": "code",
      "source": [
        "if not os.path.exists(\"pkgo_city66_class5_v1.csv\"):\n",
        "  uploaded = files.upload()\n",
        "\n",
        "def readInput(file):\n",
        "  ''' Read input files '''\n",
        "  my_data = np.genfromtxt(file, delimiter=',',skip_header=1)\n",
        "\n",
        "  ''' The first column to the 199th column is used as input features '''\n",
        "  X_train = my_data[:,0:200]\n",
        "  X_train = X_train.astype('float32')\n",
        "\n",
        "  ''' The 200-th column is the answer '''\n",
        "  y_train = my_data[:,200]\n",
        "  y_train = y_train.astype('int')\n",
        "\n",
        "  ''' Convert to one-hot encoding '''\n",
        "  Y_train = np_utils.to_categorical(y_train,5)\n",
        "\n",
        "  ''' Shuffle training data '''\n",
        "  X_train,Y_train = shuffle(X_train,Y_train,random_state=100)\n",
        "  return X_train, Y_train\n",
        "\n",
        "X_train, Y_train = readInput(file=\"pkgo_city66_class5_v1.csv\")"
      ],
      "execution_count": 0,
      "outputs": [
        {
          "output_type": "display_data",
          "data": {
            "text/html": [
              "\n",
              "     <input type=\"file\" id=\"files-c83cd986-20ee-405a-ac19-ebf6b934aa40\" name=\"files[]\" multiple disabled />\n",
              "     <output id=\"result-c83cd986-20ee-405a-ac19-ebf6b934aa40\">\n",
              "      Upload widget is only available when the cell has been executed in the\n",
              "      current browser session. Please rerun this cell to enable.\n",
              "      </output>\n",
              "      <script src=\"/nbextensions/google.colab/files.js\"></script> "
            ],
            "text/plain": [
              "<IPython.core.display.HTML object>"
            ]
          },
          "metadata": {
            "tags": []
          }
        },
        {
          "output_type": "stream",
          "text": [
            "Saving pkgo_city66_class5_v1.csv to pkgo_city66_class5_v1.csv\n"
          ],
          "name": "stdout"
        }
      ]
    },
    {
      "metadata": {
        "id": "DhHHdgTrSH4S",
        "colab_type": "text"
      },
      "cell_type": "markdown",
      "source": [
        "## 開始建立第一個模型 \n",
        "### (資料已經先替各位做過簡單的預處理囉)"
      ]
    },
    {
      "metadata": {
        "id": "Abt7aR4lTSdr",
        "colab_type": "code",
        "colab": {}
      },
      "cell_type": "code",
      "source": [
        "''' Import keras to build a DL model '''\n",
        "from keras.models import Model\n",
        "from keras.layers import Dense, Activation, Input\n",
        "from keras.layers.advanced_activations import LeakyReLU\n",
        "from keras.optimizers import SGD, Adam, RMSprop, Adagrad\n",
        "\n",
        "import keras.backend as K"
      ],
      "execution_count": 0,
      "outputs": []
    },
    {
      "metadata": {
        "id": "HPgkUo3VsQ4C",
        "colab_type": "code",
        "colab": {
          "base_uri": "https://localhost:8080/",
          "height": 1759
        },
        "outputId": "8f6f44cf-b5a5-4201-888d-add62044a9ea"
      },
      "cell_type": "code",
      "source": [
        "#@title Learning rate selection { vertical-output: true, display-mode: \"both\" }\n",
        "activation_func = \"relu\" #@param [\"relu\", \"sigmoid\"]\n",
        "\n",
        "K.clear_session()\n",
        "x_input = Input(shape = [X_train.shape[1]])\n",
        "\n",
        "x = Dense(128)(x_input)\n",
        "x = Activation(activation_func)(x)\n",
        "\n",
        "x = Dense(256)(x)\n",
        "x = Activation(activation_func)(x)\n",
        "\n",
        "x = Dense(5)(x)\n",
        "out = Activation('softmax')(x)\n",
        "\n",
        "sgd = SGD(lr= 0.01, momentum=0.0,decay=0.0,nesterov=False)\n",
        "\n",
        "model = Model(inputs=[x_input], outputs=[out])\n",
        "\n",
        "model.compile(loss='categorical_crossentropy',\n",
        "\t\t\t\toptimizer=sgd,\n",
        "\t\t\t\tmetrics=['accuracy'])\n",
        "model.summary()\n",
        "\n",
        "batch_size = 16\n",
        "epochs = 30\n",
        "\n",
        "history = model.fit(X_train, Y_train,\n",
        "\t\t\t\t\t\t\tbatch_size=batch_size,\n",
        "\t\t\t\t\t\t\tepochs=epochs,\n",
        "\t\t\t\t\t\t\tverbose=1,\n",
        "\t\t\t\t\t\t\tshuffle=True,\n",
        "              validation_split=0.1)\n",
        "\n",
        "loss\t= history.history.get('loss')\n",
        "acc \t= history.history.get('acc')\n",
        "\n",
        "''' Visualize the loss and accuracy of both models'''\n",
        "plt.figure(0)\n",
        "plt.subplot(121)\n",
        "plt.plot(range(len(loss)), loss,label=activation_func)\n",
        "plt.title('Loss')\n",
        "plt.legend(loc='upper right')\n",
        "plt.subplot(122)\n",
        "plt.plot(range(len(acc)), acc,label=activation_func)\n",
        "plt.title('Accuracy')\n",
        "plt.show()"
      ],
      "execution_count": 0,
      "outputs": [
        {
          "output_type": "stream",
          "text": [
            "_________________________________________________________________\n",
            "Layer (type)                 Output Shape              Param #   \n",
            "=================================================================\n",
            "input_1 (InputLayer)         (None, 200)               0         \n",
            "_________________________________________________________________\n",
            "dense_1 (Dense)              (None, 128)               25728     \n",
            "_________________________________________________________________\n",
            "activation_1 (Activation)    (None, 128)               0         \n",
            "_________________________________________________________________\n",
            "dense_2 (Dense)              (None, 256)               33024     \n",
            "_________________________________________________________________\n",
            "activation_2 (Activation)    (None, 256)               0         \n",
            "_________________________________________________________________\n",
            "dense_3 (Dense)              (None, 5)                 1285      \n",
            "_________________________________________________________________\n",
            "activation_3 (Activation)    (None, 5)                 0         \n",
            "=================================================================\n",
            "Total params: 60,037\n",
            "Trainable params: 60,037\n",
            "Non-trainable params: 0\n",
            "_________________________________________________________________\n",
            "Train on 1652 samples, validate on 184 samples\n",
            "Epoch 1/30\n",
            "1652/1652 [==============================] - 0s 194us/step - loss: 6.3420 - acc: 0.3608 - val_loss: 1.7710 - val_acc: 0.5163\n",
            "Epoch 2/30\n",
            "1652/1652 [==============================] - 0s 118us/step - loss: 1.3353 - acc: 0.5236 - val_loss: 1.6255 - val_acc: 0.2500\n",
            "Epoch 3/30\n",
            "1652/1652 [==============================] - 0s 119us/step - loss: 1.3155 - acc: 0.5297 - val_loss: 1.3879 - val_acc: 0.5435\n",
            "Epoch 4/30\n",
            "1652/1652 [==============================] - 0s 128us/step - loss: 1.2671 - acc: 0.5454 - val_loss: 1.4266 - val_acc: 0.4130\n",
            "Epoch 5/30\n",
            "1652/1652 [==============================] - 0s 123us/step - loss: 1.2558 - acc: 0.5508 - val_loss: 1.2688 - val_acc: 0.5489\n",
            "Epoch 6/30\n",
            "1652/1652 [==============================] - 0s 137us/step - loss: 1.2345 - acc: 0.5599 - val_loss: 1.3002 - val_acc: 0.5272\n",
            "Epoch 7/30\n",
            "1652/1652 [==============================] - 0s 136us/step - loss: 1.2228 - acc: 0.5654 - val_loss: 1.2715 - val_acc: 0.5217\n",
            "Epoch 8/30\n",
            "1652/1652 [==============================] - 0s 140us/step - loss: 1.2252 - acc: 0.5636 - val_loss: 1.1321 - val_acc: 0.6250\n",
            "Epoch 9/30\n",
            " 768/1652 [============>.................] - ETA: 0s - loss: 1.1581 - acc: 0.5755"
          ],
          "name": "stdout"
        },
        {
          "output_type": "stream",
          "text": [
            "1652/1652 [==============================] - 0s 139us/step - loss: 1.1982 - acc: 0.5660 - val_loss: 1.3958 - val_acc: 0.4620\n",
            "Epoch 10/30\n",
            "1652/1652 [==============================] - 0s 146us/step - loss: 1.2070 - acc: 0.5751 - val_loss: 1.1798 - val_acc: 0.5924\n",
            "Epoch 11/30\n",
            "1652/1652 [==============================] - 0s 142us/step - loss: 1.1821 - acc: 0.5775 - val_loss: 1.1381 - val_acc: 0.6304\n",
            "Epoch 12/30\n",
            "1652/1652 [==============================] - 0s 138us/step - loss: 1.1738 - acc: 0.5829 - val_loss: 1.1686 - val_acc: 0.6087\n",
            "Epoch 13/30\n",
            "1652/1652 [==============================] - 0s 142us/step - loss: 1.1536 - acc: 0.6005 - val_loss: 1.2155 - val_acc: 0.5489\n",
            "Epoch 14/30\n",
            "1652/1652 [==============================] - 0s 133us/step - loss: 1.1686 - acc: 0.5854 - val_loss: 1.1616 - val_acc: 0.6033\n",
            "Epoch 15/30\n",
            "1652/1652 [==============================] - 0s 139us/step - loss: 1.1641 - acc: 0.5841 - val_loss: 1.1309 - val_acc: 0.6033\n",
            "Epoch 16/30\n",
            "1652/1652 [==============================] - 0s 129us/step - loss: 1.1399 - acc: 0.5908 - val_loss: 1.1587 - val_acc: 0.5924\n",
            "Epoch 17/30\n",
            "1652/1652 [==============================] - 0s 137us/step - loss: 1.1431 - acc: 0.5926 - val_loss: 1.1917 - val_acc: 0.6141\n",
            "Epoch 18/30\n",
            "1652/1652 [==============================] - 0s 126us/step - loss: 1.1245 - acc: 0.5860 - val_loss: 1.3152 - val_acc: 0.4185\n",
            "Epoch 19/30\n",
            "1652/1652 [==============================] - 0s 138us/step - loss: 1.1183 - acc: 0.6041 - val_loss: 1.3472 - val_acc: 0.5652\n",
            "Epoch 20/30\n",
            "1652/1652 [==============================] - 0s 130us/step - loss: 1.1297 - acc: 0.6029 - val_loss: 1.1070 - val_acc: 0.5924\n",
            "Epoch 21/30\n",
            "1652/1652 [==============================] - 0s 132us/step - loss: 1.1127 - acc: 0.6017 - val_loss: 1.1604 - val_acc: 0.6250\n",
            "Epoch 22/30\n",
            "1652/1652 [==============================] - 0s 128us/step - loss: 1.0981 - acc: 0.6065 - val_loss: 1.0641 - val_acc: 0.6304\n",
            "Epoch 23/30\n",
            "1652/1652 [==============================] - 0s 139us/step - loss: 1.0841 - acc: 0.6090 - val_loss: 1.1584 - val_acc: 0.6304\n",
            "Epoch 24/30\n",
            "1652/1652 [==============================] - 0s 139us/step - loss: 1.0822 - acc: 0.6144 - val_loss: 1.2072 - val_acc: 0.5761\n"
          ],
          "name": "stdout"
        },
        {
          "output_type": "stream",
          "text": [
            "Epoch 25/30\n",
            "1652/1652 [==============================] - 0s 139us/step - loss: 1.0930 - acc: 0.5975 - val_loss: 1.0743 - val_acc: 0.6467\n",
            "Epoch 26/30\n",
            "1652/1652 [==============================] - 0s 138us/step - loss: 1.0751 - acc: 0.6156 - val_loss: 1.1872 - val_acc: 0.5543\n",
            "Epoch 27/30\n",
            "1652/1652 [==============================] - 0s 131us/step - loss: 1.0742 - acc: 0.6156 - val_loss: 1.1439 - val_acc: 0.6196\n",
            "Epoch 28/30\n",
            "1652/1652 [==============================] - 0s 126us/step - loss: 1.0713 - acc: 0.6150 - val_loss: 1.0844 - val_acc: 0.5924\n",
            "Epoch 29/30\n",
            "1652/1652 [==============================] - 0s 128us/step - loss: 1.0579 - acc: 0.6192 - val_loss: 1.0774 - val_acc: 0.6304\n",
            "Epoch 30/30\n",
            "1652/1652 [==============================] - 0s 128us/step - loss: 1.0369 - acc: 0.6308 - val_loss: 1.1430 - val_acc: 0.5598\n"
          ],
          "name": "stdout"
        },
        {
          "output_type": "display_data",
          "data": {
            "image/png": "[encoded data removed]",
            "text/plain": [
              "<matplotlib.figure.Figure at 0x7f7156165410>"
            ]
          },
          "metadata": {
            "tags": []
          }
        }
      ]
    },
    {
      "metadata": {
        "id": "JvgDioGbxLsp",
        "colab_type": "text"
      },
      "cell_type": "markdown",
      "source": [
        "## 同時比較多種 Activation Function 對訓練結果之差異"
      ]
    },
    {
      "metadata": {
        "id": "kolRji_EKFHQ",
        "colab_type": "code",
        "colab": {
          "base_uri": "https://localhost:8080/",
          "height": 432
        },
        "outputId": "55cd827b-5934-469f-9e9c-174ed88d4bfc"
      },
      "cell_type": "code",
      "source": [
        "#@title Activation Comparison { vertical-output: true, display-mode: \"both\" }\n",
        "acti_list = ['sigmoid', 'relu',  'leakyrelu'] #@param {type:\"raw\"}\n",
        "\n",
        "#['sigmoid', 'relu', 'leakyrelu']\n",
        "\n",
        "batch_size = 16\n",
        "epochs = 30\n",
        "all_loss, all_acc = [], []\n",
        "\n",
        "for acti in acti_list:\n",
        "  K.clear_session()\n",
        "  if acti == 'leakyrelu':\n",
        "    lrelu = LeakyReLU(alpha = 0.02)\n",
        "  print(\"Running model, activation = %s\" % acti)\n",
        "  \n",
        "  x_input = Input(shape = [X_train.shape[1] ])\n",
        "  x = Dense(128)(x_input)\n",
        "  if acti == 'leakyrelu':\n",
        "    x = lrelu(x)\n",
        "  else:\n",
        "    x = Activation(acti)(x)\n",
        "\n",
        "  x = Dense(256)(x)\n",
        "  if acti == 'leakyrelu':\n",
        "    x = lrelu(x)\n",
        "  else:\n",
        "    x = Activation(acti)(x)\n",
        "\n",
        "  x = Dense(5)(x)\n",
        "  out = Activation('softmax')(x)\n",
        "\n",
        "  sgd = SGD(lr= 0.01,momentum=0.0,decay=0.0,nesterov=False)\n",
        "\n",
        "  model = Model(inputs=[x_input], outputs=[out])\n",
        "\n",
        "  model.compile(loss='categorical_crossentropy',\n",
        "          optimizer=sgd,\n",
        "          metrics=['accuracy'])\n",
        "\n",
        "  m_history = model.fit(X_train, Y_train,\n",
        "                batch_size=batch_size,\n",
        "                epochs=epochs,\n",
        "                verbose=0,\n",
        "                shuffle=True,\n",
        "                validation_split=0.1)\n",
        "\n",
        "  loss\t= m_history.history.get('loss')\n",
        "  acc \t= m_history.history.get('acc')\n",
        "  \n",
        "  all_loss.append(loss)\n",
        "  all_acc.append(acc)\n",
        "  del model, m_history\n",
        "  if acti == 'leakyrelu':\n",
        "    del lrelu\n",
        "\n",
        "''' Visualize the loss and accuracy of both models'''\n",
        "plt.figure(0)\n",
        "plt.subplot(121)\n",
        "for k in np.arange(len(acti_list)):\n",
        "  plt.plot(np.arange(len(all_loss[k])), all_loss[k], label=acti_list[k])\n",
        "plt.title('Loss')\n",
        "\n",
        "plt.subplot(122)\n",
        "for k in np.arange(len(acti_list)):\n",
        "  plt.plot(np.arange(len(all_acc[k])), all_acc[k], label=acti_list[k])\n",
        "plt.title('Accuracy')\n",
        "plt.legend(bbox_to_anchor=(1.05, 1), loc=2, borderaxespad=0.)\n",
        "plt.show()"
      ],
      "execution_count": 0,
      "outputs": [
        {
          "output_type": "stream",
          "text": [
            "Running model, activation = sigmoid\n",
            "Running model, activation = relu\n",
            "Running model, activation = leakyrelu\n"
          ],
          "name": "stdout"
        },
        {
          "output_type": "display_data",
          "data": {
            "image/png": "[encoded data removed]",
            "text/plain": [
              "<matplotlib.figure.Figure at 0x7f0e76d9a780>"
            ]
          },
          "metadata": {
            "tags": []
          }
        }
      ]
    }
  ]
}