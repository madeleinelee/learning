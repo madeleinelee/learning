{
  "nbformat": 4,
  "nbformat_minor": 0,
  "metadata": {
    "colab": {
      "name": "ex04_optimizerSelection.ipynb",
      "version": "0.3.2",
      "provenance": [],
      "collapsed_sections": []
    },
    "kernelspec": {
      "name": "python3",
      "display_name": "Python 3"
    }
  },
  "cells": [
    {
      "cell_type": "markdown",
      "metadata": {
        "id": "view-in-github",
        "colab_type": "text"
      },
      "source": [
        "[View in Colaboratory](https://colab.research.google.com/github/madeleinelee/learning/blob/madeleinelee-patch-1/ex04_optimizerSelection.ipynb)"
      ]
    },
    {
      "metadata": {
        "id": "Qb1_TVN6I3Yg",
        "colab_type": "text"
      },
      "cell_type": "markdown",
      "source": [
        "## 確認套件已經安裝 & Get data"
      ]
    },
    {
      "metadata": {
        "id": "HV7YO8qHIa7v",
        "colab_type": "code",
        "colab": {
          "base_uri": "https://localhost:8080/",
          "height": 34
        },
        "outputId": "a2b34b08-fa7a-4e86-d01d-1d686d8e27c8"
      },
      "cell_type": "code",
      "source": [
        "from __future__ import print_function\n",
        "!pip install -q keras\n",
        "import keras\n",
        "from google.colab import files\n",
        "import numpy as np\n",
        "from past.builtins import execfile\n",
        "import numpy as np\n",
        "import os\n",
        "\n",
        "from keras.utils import np_utils\n",
        "from sklearn.utils import shuffle\n",
        "import matplotlib.pyplot as plt"
      ],
      "execution_count": 0,
      "outputs": [
        {
          "output_type": "stream",
          "text": [
            "Using TensorFlow backend.\n"
          ],
          "name": "stderr"
        }
      ]
    },
    {
      "metadata": {
        "id": "DMi0n2udP2nZ",
        "colab_type": "text"
      },
      "cell_type": "markdown",
      "source": [
        "## 請將本機端的資料 \"pkgo_city66_cass5_v1.csv\" 上傳到 colab 環境"
      ]
    },
    {
      "metadata": {
        "id": "dZlRI9TZNAYy",
        "colab_type": "code",
        "colab": {}
      },
      "cell_type": "code",
      "source": [
        "if not os.path.exists(\"pkgo_city66_class5_v1.csv\"):\n",
        "  uploaded = files.upload()\n",
        "\n",
        "def readInput(file):\n",
        "  ''' Read input files '''\n",
        "  my_data = np.genfromtxt(file, delimiter=',',skip_header=1)\n",
        "\n",
        "  ''' The first column to the 199th column is used as input features '''\n",
        "  X_train = my_data[:,0:200]\n",
        "  X_train = X_train.astype('float32')\n",
        "\n",
        "  ''' The 200-th column is the answer '''\n",
        "  y_train = my_data[:,200]\n",
        "  y_train = y_train.astype('int')\n",
        "\n",
        "  ''' Convert to one-hot encoding '''\n",
        "  Y_train = np_utils.to_categorical(y_train,5)\n",
        "\n",
        "  ''' Shuffle training data '''\n",
        "  X_train,Y_train = shuffle(X_train,Y_train,random_state=100)\n",
        "  return X_train, Y_train\n",
        "\n",
        "X_train, Y_train = readInput(file=\"pkgo_city66_class5_v1.csv\")"
      ],
      "execution_count": 0,
      "outputs": []
    },
    {
      "metadata": {
        "id": "DhHHdgTrSH4S",
        "colab_type": "text"
      },
      "cell_type": "markdown",
      "source": [
        "## 開始建立第一個模型 \n",
        "### (資料已經先替各位做過簡單的預處理囉)"
      ]
    },
    {
      "metadata": {
        "id": "Abt7aR4lTSdr",
        "colab_type": "code",
        "colab": {}
      },
      "cell_type": "code",
      "source": [
        "''' Import keras to build a DL model '''\n",
        "from keras.models import Model\n",
        "from keras.layers import Dense, Activation, Input\n",
        "from keras.optimizers import SGD, Adam, RMSprop, Adagrad\n",
        "import keras.backend as K"
      ],
      "execution_count": 0,
      "outputs": []
    },
    {
      "metadata": {
        "id": "HPgkUo3VsQ4C",
        "colab_type": "code",
        "colab": {
          "base_uri": "https://localhost:8080/",
          "height": 1759
        },
        "outputId": "32351f91-e5cc-4555-ea24-97963267e001"
      },
      "cell_type": "code",
      "source": [
        "#@title Optimizer selection { vertical-output: true, display-mode: \"both\" }\n",
        "optim = \"sgd\" #@param [\"sgd\", \"Adam\"]\n",
        "K.clear_session()\n",
        "\n",
        "x_input = Input(shape = [X_train.shape[1]])\n",
        "\n",
        "x = Dense(128)(x_input)\n",
        "x = Activation('relu')(x)\n",
        "\n",
        "x = Dense(256)(x)\n",
        "x = Activation('relu')(x)\n",
        "\n",
        "x = Dense(5)(x)\n",
        "out = Activation('softmax')(x)\n",
        "\n",
        "model = Model(inputs=[x_input], outputs=[out])\n",
        "\n",
        "if optim == \"sgd\":\n",
        "  optim = SGD(lr= 0.01, momentum=0.0,decay=0.0,nesterov=False)\n",
        "elif optim == \"Adam\":\n",
        "  optim = Adam(lr = 0.001)\n",
        "\n",
        "model.compile(loss='categorical_crossentropy',\n",
        "\t\t\t\toptimizer=optim,\n",
        "\t\t\t\tmetrics=['accuracy'])\n",
        "model.summary()\n",
        "\n",
        "batch_size = 16\n",
        "epochs = 30\n",
        "\n",
        "history = model.fit(X_train, Y_train,\n",
        "\t\t\t\t\t\t\tbatch_size=batch_size,\n",
        "\t\t\t\t\t\t\tepochs=epochs,\n",
        "\t\t\t\t\t\t\tverbose=1,\n",
        "\t\t\t\t\t\t\tshuffle=True,\n",
        "              validation_split=0.1)\n",
        "\n",
        "loss\t= history.history.get('loss')\n",
        "acc \t= history.history.get('acc')\n",
        "\n",
        "''' Visualize the loss and accuracy of both models'''\n",
        "plt.figure(0)\n",
        "plt.subplot(121)\n",
        "plt.plot(range(len(loss)), loss,label='CE')\n",
        "plt.title('Loss')\n",
        "plt.legend(loc='upper right')\n",
        "plt.subplot(122)\n",
        "plt.plot(range(len(acc)), acc,label='CE')\n",
        "plt.title('Accuracy')\n",
        "plt.show()"
      ],
      "execution_count": 0,
      "outputs": [
        {
          "output_type": "stream",
          "text": [
            "_________________________________________________________________\n",
            "Layer (type)                 Output Shape              Param #   \n",
            "=================================================================\n",
            "input_1 (InputLayer)         (None, 200)               0         \n",
            "_________________________________________________________________\n",
            "dense_1 (Dense)              (None, 128)               25728     \n",
            "_________________________________________________________________\n",
            "activation_1 (Activation)    (None, 128)               0         \n",
            "_________________________________________________________________\n",
            "dense_2 (Dense)              (None, 256)               33024     \n",
            "_________________________________________________________________\n",
            "activation_2 (Activation)    (None, 256)               0         \n",
            "_________________________________________________________________\n",
            "dense_3 (Dense)              (None, 5)                 1285      \n",
            "_________________________________________________________________\n",
            "activation_3 (Activation)    (None, 5)                 0         \n",
            "=================================================================\n",
            "Total params: 60,037\n",
            "Trainable params: 60,037\n",
            "Non-trainable params: 0\n",
            "_________________________________________________________________\n",
            "Train on 1652 samples, validate on 184 samples\n",
            "Epoch 1/30\n",
            "1652/1652 [==============================] - 1s 345us/step - loss: 1.5170 - acc: 0.4915 - val_loss: 1.0950 - val_acc: 0.5707\n",
            "Epoch 2/30\n",
            "1652/1652 [==============================] - 0s 181us/step - loss: 1.1933 - acc: 0.5642 - val_loss: 1.0125 - val_acc: 0.6304\n",
            "Epoch 3/30\n",
            "1652/1652 [==============================] - 0s 219us/step - loss: 1.0693 - acc: 0.6114 - val_loss: 0.9538 - val_acc: 0.6413\n",
            "Epoch 4/30\n",
            "1652/1652 [==============================] - 0s 225us/step - loss: 1.0306 - acc: 0.6344 - val_loss: 0.8766 - val_acc: 0.7011\n",
            "Epoch 5/30\n",
            "1652/1652 [==============================] - 0s 185us/step - loss: 0.9698 - acc: 0.6501 - val_loss: 0.9237 - val_acc: 0.6576\n",
            "Epoch 6/30\n",
            "1652/1652 [==============================] - 0s 180us/step - loss: 0.9179 - acc: 0.6731 - val_loss: 0.9336 - val_acc: 0.6902\n",
            "Epoch 7/30\n",
            "1652/1652 [==============================] - 0s 164us/step - loss: 0.9350 - acc: 0.6804 - val_loss: 0.8633 - val_acc: 0.6902\n",
            "Epoch 8/30\n",
            "  16/1652 [..............................] - ETA: 0s - loss: 0.4360 - acc: 0.8750"
          ],
          "name": "stdout"
        },
        {
          "output_type": "stream",
          "text": [
            "1652/1652 [==============================] - 0s 178us/step - loss: 0.8973 - acc: 0.6774 - val_loss: 0.9173 - val_acc: 0.6522\n",
            "Epoch 9/30\n",
            "1652/1652 [==============================] - 0s 160us/step - loss: 0.8619 - acc: 0.7004 - val_loss: 0.9076 - val_acc: 0.6739\n",
            "Epoch 10/30\n",
            "1652/1652 [==============================] - 0s 163us/step - loss: 0.8277 - acc: 0.6967 - val_loss: 0.8292 - val_acc: 0.7228\n",
            "Epoch 11/30\n",
            "1652/1652 [==============================] - 0s 176us/step - loss: 0.8233 - acc: 0.7070 - val_loss: 0.7981 - val_acc: 0.7011\n",
            "Epoch 12/30\n",
            "1652/1652 [==============================] - 0s 175us/step - loss: 0.7726 - acc: 0.7222 - val_loss: 0.8063 - val_acc: 0.7120\n",
            "Epoch 13/30\n",
            "1652/1652 [==============================] - 0s 175us/step - loss: 0.7561 - acc: 0.7300 - val_loss: 0.8213 - val_acc: 0.7174\n",
            "Epoch 14/30\n",
            "1652/1652 [==============================] - 0s 172us/step - loss: 0.7404 - acc: 0.7421 - val_loss: 0.7523 - val_acc: 0.7609\n",
            "Epoch 15/30\n",
            "1652/1652 [==============================] - 0s 177us/step - loss: 0.7334 - acc: 0.7373 - val_loss: 0.8376 - val_acc: 0.7228\n",
            "Epoch 16/30\n",
            "1652/1652 [==============================] - 0s 163us/step - loss: 0.7307 - acc: 0.7391 - val_loss: 0.8326 - val_acc: 0.7174\n",
            "Epoch 17/30\n",
            "1652/1652 [==============================] - 0s 158us/step - loss: 0.7040 - acc: 0.7524 - val_loss: 0.7680 - val_acc: 0.7174\n",
            "Epoch 18/30\n",
            "1652/1652 [==============================] - 0s 156us/step - loss: 0.6730 - acc: 0.7567 - val_loss: 0.8069 - val_acc: 0.7065\n",
            "Epoch 19/30\n",
            "1652/1652 [==============================] - 0s 162us/step - loss: 0.6521 - acc: 0.7676 - val_loss: 0.8390 - val_acc: 0.7283\n",
            "Epoch 20/30\n",
            "1652/1652 [==============================] - 0s 152us/step - loss: 0.6653 - acc: 0.7585 - val_loss: 0.8383 - val_acc: 0.7120\n",
            "Epoch 21/30\n",
            "1652/1652 [==============================] - 0s 153us/step - loss: 0.6272 - acc: 0.7754 - val_loss: 0.8187 - val_acc: 0.7283\n",
            "Epoch 22/30\n",
            "1652/1652 [==============================] - 0s 151us/step - loss: 0.6030 - acc: 0.7809 - val_loss: 0.8694 - val_acc: 0.7283\n"
          ],
          "name": "stdout"
        },
        {
          "output_type": "stream",
          "text": [
            "Epoch 23/30\n",
            "1652/1652 [==============================] - 0s 164us/step - loss: 0.5965 - acc: 0.7863 - val_loss: 0.8141 - val_acc: 0.7391\n",
            "Epoch 24/30\n",
            "1652/1652 [==============================] - 0s 156us/step - loss: 0.5875 - acc: 0.7821 - val_loss: 0.8292 - val_acc: 0.7120\n",
            "Epoch 25/30\n",
            "1652/1652 [==============================] - 0s 154us/step - loss: 0.5534 - acc: 0.8093 - val_loss: 0.9119 - val_acc: 0.6630\n",
            "Epoch 26/30\n",
            "1652/1652 [==============================] - 0s 153us/step - loss: 0.5167 - acc: 0.8142 - val_loss: 0.8765 - val_acc: 0.7174\n",
            "Epoch 27/30\n",
            "1652/1652 [==============================] - 0s 164us/step - loss: 0.5205 - acc: 0.8166 - val_loss: 0.8723 - val_acc: 0.7337\n",
            "Epoch 28/30\n",
            "1652/1652 [==============================] - 0s 153us/step - loss: 0.5099 - acc: 0.8148 - val_loss: 0.8535 - val_acc: 0.7174\n",
            "Epoch 29/30\n",
            "1652/1652 [==============================] - 0s 161us/step - loss: 0.4793 - acc: 0.8432 - val_loss: 0.8174 - val_acc: 0.7120\n",
            "Epoch 30/30\n",
            "1652/1652 [==============================] - 0s 162us/step - loss: 0.4613 - acc: 0.8378 - val_loss: 0.9132 - val_acc: 0.7228\n"
          ],
          "name": "stdout"
        },
        {
          "output_type": "display_data",
          "data": {
            "image/png": "[encoded data removed]",
            "text/plain": [
              "<matplotlib.figure.Figure at 0x7fed324c8f50>"
            ]
          },
          "metadata": {
            "tags": []
          }
        }
      ]
    },
    {
      "metadata": {
        "id": "JvgDioGbxLsp",
        "colab_type": "text"
      },
      "cell_type": "markdown",
      "source": [
        "## 同時比較多種 optimizers 對訓練結果之差異"
      ]
    },
    {
      "metadata": {
        "id": "kolRji_EKFHQ",
        "colab_type": "code",
        "colab": {
          "base_uri": "https://localhost:8080/",
          "height": 415
        },
        "outputId": "a8c123bd-c2ac-4d41-f17c-e99b49223fc5"
      },
      "cell_type": "code",
      "source": [
        "#@title Optimizers Comparison { vertical-output: true, display-mode: \"both\" }\n",
        "optim_list = [\"sgd\", \"Adam\"] #@param {type:\"raw\"}\n",
        "all_loss, all_acc = [], []\n",
        "\n",
        "import keras.backend as K\n",
        "batch_size = 16\n",
        "epochs = 30\n",
        "\n",
        "for optim in optim_list:\n",
        "  K.clear_session()\n",
        "  print(\"Running model, optimizers = %s\" % optim)\n",
        "  \n",
        "  x_input = Input(shape = [X_train.shape[1]])\n",
        "\n",
        "  x = Dense(128)(x_input)\n",
        "  x = Activation('relu')(x)\n",
        "\n",
        "  x = Dense(256)(x)\n",
        "  x = Activation('relu')(x)\n",
        "\n",
        "  x = Dense(5)(x)\n",
        "  out = Activation('softmax')(x)\n",
        "\n",
        "  model = Model(inputs=[x_input], outputs=[out])\n",
        "\n",
        "  if optim == \"sgd\":\n",
        "    optim = SGD(lr= 0.01, momentum=0.0,decay=0.0,nesterov=False)\n",
        "  elif optim == \"Adam\":\n",
        "    optim = Adam(lr = 0.001)\n",
        "\n",
        "  model.compile(loss='categorical_crossentropy',\n",
        "          optimizer=optim,\n",
        "          metrics=['accuracy'])\n",
        "\n",
        "\n",
        "  history = model.fit(X_train, Y_train,\n",
        "                batch_size=batch_size,\n",
        "                epochs=epochs,\n",
        "                verbose=0,\n",
        "                shuffle=True,\n",
        "                validation_split=0.1)\n",
        "\n",
        "  loss\t= history.history.get('loss')\n",
        "  acc \t= history.history.get('acc')\n",
        "  \n",
        "  all_loss.append(loss)\n",
        "  all_acc.append(acc)\n",
        "  del model, history\n",
        "\n",
        "''' Visualize the loss and accuracy of both models'''\n",
        "plt.figure(0)\n",
        "plt.subplot(121)\n",
        "for k in range(len(optim_list)):\n",
        "  plt.plot(range(len(all_loss[k])), all_loss[k],label=optim_list[k])\n",
        "plt.title('Loss')\n",
        "plt.subplot(122)\n",
        "for k in range(len(optim_list)):\n",
        "  plt.plot(range(len(all_acc[k])), all_acc[k],label=optim_list[k])\n",
        "plt.title('Accuracy')\n",
        "plt.legend(bbox_to_anchor=(1.05, 1), loc=2, borderaxespad=0.)\n",
        "plt.show()"
      ],
      "execution_count": 0,
      "outputs": [
        {
          "output_type": "stream",
          "text": [
            "Running model, optimizers = sgd\n",
            "Running model, optimizers = Adam\n"
          ],
          "name": "stdout"
        },
        {
          "output_type": "display_data",
          "data": {
            "image/png": "[encoded data removed]",
            "text/plain": [
              "<matplotlib.figure.Figure at 0x7f82ab59f390>"
            ]
          },
          "metadata": {
            "tags": []
          }
        }
      ]
    }
  ]
}